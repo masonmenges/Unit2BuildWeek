{
 "cells": [
  {
   "cell_type": "markdown",
   "metadata": {},
   "source": [
    "# Data Exploration Cleaning\n",
    "* Import libraries and DataFrames, begin cleaning, analysing, and organizing data. Determine potential targets and features"
   ]
  },
  {
   "cell_type": "code",
   "execution_count": 543,
   "metadata": {},
   "outputs": [],
   "source": [
    "# # pip installs\n",
    "# !pip install category_encoders==2.*\n",
    "# !pip3 install xgboost\n",
    "# !pip install eli5"
   ]
  },
  {
   "cell_type": "code",
   "execution_count": 544,
   "metadata": {},
   "outputs": [],
   "source": [
    "# import libraries\n",
    "import pandas as pd\n",
    "import numpy as np\n",
    "import warnings\n",
    "import matplotlib.pyplot as plt\n",
    "from sklearn.model_selection import train_test_split\n",
    "from sklearn.metrics import accuracy_score\n",
    "from sklearn.metrics import make_scorer\n",
    "import category_encoders as ce\n",
    "from sklearn.preprocessing import StandardScaler\n",
    "from sklearn.impute import SimpleImputer\n",
    "from sklearn.pipeline import make_pipeline\n",
    "from sklearn.linear_model import LogisticRegression\n",
    "from sklearn.model_selection import cross_val_score\n",
    "from sklearn.model_selection import RandomizedSearchCV\n",
    "import xgboost\n",
    "from sklearn.compose import ColumnTransformer\n",
    "from scipy.stats import randint\n",
    "from scipy.stats import uniform\n",
    "import numpy as np\n",
    "import eli5\n",
    "from eli5.sklearn import PermutationImportance"
   ]
  },
  {
   "cell_type": "code",
   "execution_count": 545,
   "metadata": {},
   "outputs": [],
   "source": [
    "# Ignore default evaluation metric warnings\n",
    "warnings.filterwarnings('ignore', message='default evaluation metric')"
   ]
  },
  {
   "cell_type": "code",
   "execution_count": 546,
   "metadata": {},
   "outputs": [],
   "source": [
    "# read in dataset\n",
    "file_path = 'Mental_Health_in_Tech_2016.csv'\n",
    "\n",
    "df = pd.read_csv(file_path)"
   ]
  },
  {
   "cell_type": "code",
   "execution_count": 547,
   "metadata": {},
   "outputs": [],
   "source": [
    "column_dict = {'Are you self-employed?': 'self_employed',\n",
    "       'How many employees does your company or organization have?': 'number_of_employees',\n",
    "       'Is your employer primarily a tech company/organization?': 'tech_company',\n",
    "       'Is your primary role within your company related to tech/IT?': 'tech_role',\n",
    "       'Does your employer provide mental health benefits as part of healthcare coverage?': 'coverage_Offered',\n",
    "       'Do you know the options for mental health care available under your employer-provided coverage?': 'familiar_with_coverage_options',\n",
    "       'Has your employer ever formally discussed mental health (for example, as part of a wellness campaign or other official communication)?' : 'employer_discussed',\n",
    "       'Does your employer offer resources to learn more about mental health concerns and options for seeking help?': 'Employer_resources_available',\n",
    "       'Is your anonymity protected if you choose to take advantage of mental health or substance abuse treatment resources provided by your employer?' : 'protected_anonymity',\n",
    "       'If a mental health issue prompted you to request a medical leave from work, asking for that leave would be:' : 'is_mental_health_leave_accepted',\n",
    "       'Do you think that discussing a mental health disorder with your employer would have negative consequences?' : 'discussion_neg_consequences_mental',\n",
    "       'Do you think that discussing a physical health issue with your employer would have negative consequences?' : 'disccusion_neg_consequences_physical',\n",
    "       'Would you feel comfortable discussing a mental health disorder with your coworkers?': 'discuss_coworkers',\n",
    "       'Would you feel comfortable discussing a mental health disorder with your direct supervisor(s)?' : 'discuss_supervisor',\n",
    "       'Do you feel that your employer takes mental health as seriously as physical health?' : 'employer_mental_physical_health_equal',\n",
    "       'Have you heard of or observed negative consequences for co-workers who have been open about mental health issues in your workplace?' : 'neg_workplace_consequences',\n",
    "       'Do you have medical coverage which includes treatment of mental health issues?': 'Insurance_covered',\n",
    "       'Do you know local or online resources to seek help for a mental health disorder?' : 'aware_of_resources_seeking_help',\n",
    "       'If you have been diagnosed or treated for a mental health disorder, do you ever reveal this to clients or business contacts?': 'reveal_diagnosis_clients',\n",
    "       'If you have revealed a mental health issue to a client or business contact, do you believe this has impacted you negatively?' : 'revealing_diagnoses_neg_impact_client',\n",
    "       'If you have been diagnosed or treated for a mental health disorder, do you ever reveal this to coworkers or employees?' : 'reveal_diagnosis_coworkers_or_Employees',\n",
    "       'If you have revealed a mental health issue to a coworker or employee, do you believe this has impacted you negatively?': 'revealing_diagnoses_neg_impact_coworkers',\n",
    "       'Do you believe your productivity is ever affected by a mental health issue?' : 'productivity_affected',\n",
    "       'If yes, what percentage of your work time (time performing primary or secondary job functions) is affected by a mental health issue?': 'productivity_affected_time_percentage',\n",
    "       'Do you have previous employers?' : 'previous_employers',\n",
    "       'Have your previous employers provided mental health benefits?': 'previous_employers_coverage_provided',\n",
    "       'Were you aware of the options for mental health care provided by your previous employers?': 'previous_employers_aware_coverage',\n",
    "       'Did your previous employers ever formally discuss mental health (as part of a wellness campaign or other official communication)?' : 'previous_employers_discussed',\n",
    "       'Did your previous employers provide resources to learn more about mental health issues and how to seek help?': 'previous_employers_resources_available',\n",
    "       'Was your anonymity protected if you chose to take advantage of mental health or substance abuse treatment resources with previous employers?': 'previous_employers_protected_anonymity',\n",
    "       'Do you think that discussing a mental health disorder with previous employers would have negative consequences?': 'previous_employers_discuss_mental_neg',\n",
    "       'Do you think that discussing a physical health issue with previous employers would have negative consequences?' : 'previous_employers_discuss_physical_neg',\n",
    "       'Would you have been willing to discuss a mental health issue with your previous co-workers?': 'previous_employers_discuss_coworkers',\n",
    "       'Would you have been willing to discuss a mental health issue with your direct supervisor(s)?': 'previous_employers_discuss_supervisors',\n",
    "       'Did you feel that your previous employers took mental health as seriously as physical health?': 'previous_employers_mental_physical_health_equal',\n",
    "       'Did you hear of or observe negative consequences for co-workers with mental health issues in your previous workplaces?': 'previous_employers_neg_workplace_consequences',\n",
    "       'Would you be willing to bring up a physical health issue with a potential employer in an interview?': 'Interview_disucess_physical',\n",
    "       'Why or why not?': 'Interview_physical_why_whynot',\n",
    "       'Would you bring up a mental health issue with a potential employer in an interview?': 'Interview_discuss_mental',\n",
    "       'Why or why not?.1': 'Interview_mental_why_whynot',\n",
    "       'Do you feel that being identified as a person with a mental health issue would hurt your career?': 'neg_career_impact',\n",
    "       'Do you think that team members/co-workers would view you more negatively if they knew you suffered from a mental health issue?': 'neg_colleague_view',\n",
    "       'How willing would you be to share with friends and family that you have a mental illness?': 'friends_family_share',\n",
    "       'Have you observed or experienced an unsupportive or badly handled response to a mental health issue in your current or previous workplace?': 'obs_poor_response_workplace',\n",
    "       'Have your observations of how another individual who discussed a mental health disorder made you less likely to reveal a mental health issue yourself in your current workplace?': 'willingness_from_other_peoples_experiences',\n",
    "       'Do you have a family history of mental illness?': 'family_history',\n",
    "       'Have you had a mental health disorder in the past?': 'past_disorder',\n",
    "       'Do you currently have a mental health disorder?': 'current_disorder',\n",
    "       'If yes, what condition(s) have you been diagnosed with?': 'diagnosed_conditions',\n",
    "       'If maybe, what condition(s) do you believe you have?': 'possible_conditions',\n",
    "       'Have you been diagnosed with a mental health condition by a medical professional?': 'professional_diagnosis',\n",
    "       'If so, what condition(s) were you diagnosed with?': 'professional_diagnosed_conditions',\n",
    "       'Have you ever sought treatment for a mental health issue from a mental health professional?': 'sought_treatment_professional',\n",
    "       'If you have a mental health issue, do you feel that it interferes with your work when being treated effectively?': 'does_effective_treatment_impact_work',\n",
    "       'If you have a mental health issue, do you feel that it interferes with your work when NOT being treated effectively?': 'does_ineffective_treatment_impact_work',\n",
    "       'What is your age?': 'age',\n",
    "       'What is your gender?': 'gender',\n",
    "       'What country do you live in?': 'country',\n",
    "       'What US state or territory do you live in?': 'US_state',\n",
    "       'What country do you work in?': 'country_work',\n",
    "       'What US state or territory do you work in?': 'US_state_work',\n",
    "       'Which of the following best describes your work position?': 'work_position',\n",
    "       'Do you work remotely?': 'remote_work'}"
   ]
  },
  {
   "cell_type": "code",
   "execution_count": 548,
   "metadata": {},
   "outputs": [],
   "source": [
    "def clean(df):\n",
    "    #rename columns based on dictionary values     \n",
    "    df = df.rename(columns=column_dict)\n",
    "    \n",
    "    #columns used to generate a score based on a persons willingness\n",
    "    #to discuss mental health in a work environment     \n",
    "    willingness= ['discuss_coworkers',\n",
    "                  'discuss_supervisor',\n",
    "                  'reveal_diagnosis_clients',\n",
    "                  'reveal_diagnosis_coworkers_or_Employees',\n",
    "                  'previous_employers_discuss_coworkers',\n",
    "                  'previous_employers_discuss_supervisors',\n",
    "                  'Interview_discuss_mental',\n",
    "                  'willingness_from_other_peoples_experiences']\n",
    "    \n",
    "    #Clean and adjust willingness colums to be used for generating a score    \n",
    "    for col in willingness:\n",
    "        majority = df[col].value_counts().index[0]\n",
    "        df[col] = df[col].fillna(value=majority)\n",
    "    \n",
    "        df.loc[df[col].str.contains('Not applicable to me'), col] = 'No'\n",
    "        df.loc[df[col].str.contains('No'), col] = 'No'\n",
    "        df.loc[df[col].str.contains('Some of my previous employers'), col] = 'Maybe'\n",
    "        df.loc[df[col].str.contains('Sometimes, if it comes up'), col] = 'Maybe'\n",
    "        df.loc[df[col].str.contains('maybe'), col] = 'Maybe'\n",
    "        df.loc[df[col].str.contains(\"I don't know\"), col] = 'Maybe'\n",
    "        df.loc[df[col].str.contains('Yes'), col] = 'Yes'\n",
    "    \n",
    "        df.loc[df[col].str.contains('No'), col] = '0'\n",
    "        df.loc[df[col].str.contains('Maybe'), col] = '1'\n",
    "        df.loc[df[col].str.contains('Yes'), col] = '2'\n",
    "    \n",
    "        df[col] = df[col].astype(int)\n",
    "    \n",
    "    #Generate score based on values in willingness columns and determine willingness based on overall score \n",
    "    df.loc[df[willingness].sum(axis=1) >= 9, 'Willingness'] = 2\n",
    "    df.loc[(df[willingness].sum(axis=1) > 4) & (df[willingness].sum(axis=1) < 9), 'Willingness'] = 1\n",
    "    df.loc[df[willingness].sum(axis=1) <= 4, 'Willingness'] = 0\n",
    "    \n",
    "    df['Willingness'] = df['Willingness'].astype(int)\n",
    "\n",
    "    \n",
    "    #Drop willingness columns from dataset to avoid leakage  \n",
    "    df = df.drop(columns=willingness)\n",
    "    \n",
    "    #Drop High Cardinality features\n",
    "    cardinality = df.select_dtypes(exclude='number').nunique()\n",
    "    high_cat_features = cardinality[cardinality >40].index.to_list()\n",
    "    df = df.drop(columns=high_cat_features)\n",
    "    \n",
    "    return df"
   ]
  },
  {
   "cell_type": "code",
   "execution_count": 549,
   "metadata": {},
   "outputs": [],
   "source": [
    "df = clean(df)"
   ]
  },
  {
   "cell_type": "code",
   "execution_count": 550,
   "metadata": {},
   "outputs": [
    {
     "data": {
      "text/html": [
       "<div>\n",
       "<style scoped>\n",
       "    .dataframe tbody tr th:only-of-type {\n",
       "        vertical-align: middle;\n",
       "    }\n",
       "\n",
       "    .dataframe tbody tr th {\n",
       "        vertical-align: top;\n",
       "    }\n",
       "\n",
       "    .dataframe thead th {\n",
       "        text-align: right;\n",
       "    }\n",
       "</style>\n",
       "<table border=\"1\" class=\"dataframe\">\n",
       "  <thead>\n",
       "    <tr style=\"text-align: right;\">\n",
       "      <th></th>\n",
       "      <th>self_employed</th>\n",
       "      <th>number_of_employees</th>\n",
       "      <th>tech_company</th>\n",
       "      <th>tech_role</th>\n",
       "      <th>coverage_Offered</th>\n",
       "      <th>familiar_with_coverage_options</th>\n",
       "      <th>employer_discussed</th>\n",
       "      <th>Employer_resources_available</th>\n",
       "      <th>protected_anonymity</th>\n",
       "      <th>is_mental_health_leave_accepted</th>\n",
       "      <th>...</th>\n",
       "      <th>family_history</th>\n",
       "      <th>past_disorder</th>\n",
       "      <th>current_disorder</th>\n",
       "      <th>professional_diagnosis</th>\n",
       "      <th>sought_treatment_professional</th>\n",
       "      <th>does_effective_treatment_impact_work</th>\n",
       "      <th>does_ineffective_treatment_impact_work</th>\n",
       "      <th>age</th>\n",
       "      <th>remote_work</th>\n",
       "      <th>Willingness</th>\n",
       "    </tr>\n",
       "  </thead>\n",
       "  <tbody>\n",
       "    <tr>\n",
       "      <th>0</th>\n",
       "      <td>0</td>\n",
       "      <td>26-100</td>\n",
       "      <td>1.0</td>\n",
       "      <td>NaN</td>\n",
       "      <td>Not eligible for coverage / N/A</td>\n",
       "      <td>NaN</td>\n",
       "      <td>No</td>\n",
       "      <td>No</td>\n",
       "      <td>I don't know</td>\n",
       "      <td>Very easy</td>\n",
       "      <td>...</td>\n",
       "      <td>No</td>\n",
       "      <td>Yes</td>\n",
       "      <td>No</td>\n",
       "      <td>Yes</td>\n",
       "      <td>0</td>\n",
       "      <td>Not applicable to me</td>\n",
       "      <td>Not applicable to me</td>\n",
       "      <td>39</td>\n",
       "      <td>Sometimes</td>\n",
       "      <td>1</td>\n",
       "    </tr>\n",
       "    <tr>\n",
       "      <th>1</th>\n",
       "      <td>0</td>\n",
       "      <td>6-25</td>\n",
       "      <td>1.0</td>\n",
       "      <td>NaN</td>\n",
       "      <td>No</td>\n",
       "      <td>Yes</td>\n",
       "      <td>Yes</td>\n",
       "      <td>Yes</td>\n",
       "      <td>Yes</td>\n",
       "      <td>Somewhat easy</td>\n",
       "      <td>...</td>\n",
       "      <td>Yes</td>\n",
       "      <td>Yes</td>\n",
       "      <td>Yes</td>\n",
       "      <td>Yes</td>\n",
       "      <td>1</td>\n",
       "      <td>Rarely</td>\n",
       "      <td>Sometimes</td>\n",
       "      <td>29</td>\n",
       "      <td>Never</td>\n",
       "      <td>1</td>\n",
       "    </tr>\n",
       "    <tr>\n",
       "      <th>2</th>\n",
       "      <td>0</td>\n",
       "      <td>6-25</td>\n",
       "      <td>1.0</td>\n",
       "      <td>NaN</td>\n",
       "      <td>No</td>\n",
       "      <td>NaN</td>\n",
       "      <td>No</td>\n",
       "      <td>No</td>\n",
       "      <td>I don't know</td>\n",
       "      <td>Neither easy nor difficult</td>\n",
       "      <td>...</td>\n",
       "      <td>No</td>\n",
       "      <td>Maybe</td>\n",
       "      <td>No</td>\n",
       "      <td>No</td>\n",
       "      <td>1</td>\n",
       "      <td>Not applicable to me</td>\n",
       "      <td>Not applicable to me</td>\n",
       "      <td>38</td>\n",
       "      <td>Always</td>\n",
       "      <td>1</td>\n",
       "    </tr>\n",
       "    <tr>\n",
       "      <th>3</th>\n",
       "      <td>1</td>\n",
       "      <td>NaN</td>\n",
       "      <td>NaN</td>\n",
       "      <td>NaN</td>\n",
       "      <td>NaN</td>\n",
       "      <td>NaN</td>\n",
       "      <td>NaN</td>\n",
       "      <td>NaN</td>\n",
       "      <td>NaN</td>\n",
       "      <td>NaN</td>\n",
       "      <td>...</td>\n",
       "      <td>No</td>\n",
       "      <td>Yes</td>\n",
       "      <td>Yes</td>\n",
       "      <td>Yes</td>\n",
       "      <td>1</td>\n",
       "      <td>Sometimes</td>\n",
       "      <td>Sometimes</td>\n",
       "      <td>43</td>\n",
       "      <td>Sometimes</td>\n",
       "      <td>2</td>\n",
       "    </tr>\n",
       "    <tr>\n",
       "      <th>4</th>\n",
       "      <td>0</td>\n",
       "      <td>6-25</td>\n",
       "      <td>0.0</td>\n",
       "      <td>1.0</td>\n",
       "      <td>Yes</td>\n",
       "      <td>Yes</td>\n",
       "      <td>No</td>\n",
       "      <td>No</td>\n",
       "      <td>No</td>\n",
       "      <td>Neither easy nor difficult</td>\n",
       "      <td>...</td>\n",
       "      <td>Yes</td>\n",
       "      <td>Yes</td>\n",
       "      <td>Yes</td>\n",
       "      <td>Yes</td>\n",
       "      <td>1</td>\n",
       "      <td>Sometimes</td>\n",
       "      <td>Sometimes</td>\n",
       "      <td>43</td>\n",
       "      <td>Sometimes</td>\n",
       "      <td>0</td>\n",
       "    </tr>\n",
       "    <tr>\n",
       "      <th>...</th>\n",
       "      <td>...</td>\n",
       "      <td>...</td>\n",
       "      <td>...</td>\n",
       "      <td>...</td>\n",
       "      <td>...</td>\n",
       "      <td>...</td>\n",
       "      <td>...</td>\n",
       "      <td>...</td>\n",
       "      <td>...</td>\n",
       "      <td>...</td>\n",
       "      <td>...</td>\n",
       "      <td>...</td>\n",
       "      <td>...</td>\n",
       "      <td>...</td>\n",
       "      <td>...</td>\n",
       "      <td>...</td>\n",
       "      <td>...</td>\n",
       "      <td>...</td>\n",
       "      <td>...</td>\n",
       "      <td>...</td>\n",
       "      <td>...</td>\n",
       "    </tr>\n",
       "    <tr>\n",
       "      <th>1428</th>\n",
       "      <td>1</td>\n",
       "      <td>NaN</td>\n",
       "      <td>NaN</td>\n",
       "      <td>NaN</td>\n",
       "      <td>NaN</td>\n",
       "      <td>NaN</td>\n",
       "      <td>NaN</td>\n",
       "      <td>NaN</td>\n",
       "      <td>NaN</td>\n",
       "      <td>NaN</td>\n",
       "      <td>...</td>\n",
       "      <td>Yes</td>\n",
       "      <td>No</td>\n",
       "      <td>No</td>\n",
       "      <td>No</td>\n",
       "      <td>1</td>\n",
       "      <td>Not applicable to me</td>\n",
       "      <td>Not applicable to me</td>\n",
       "      <td>34</td>\n",
       "      <td>Sometimes</td>\n",
       "      <td>1</td>\n",
       "    </tr>\n",
       "    <tr>\n",
       "      <th>1429</th>\n",
       "      <td>1</td>\n",
       "      <td>NaN</td>\n",
       "      <td>NaN</td>\n",
       "      <td>NaN</td>\n",
       "      <td>NaN</td>\n",
       "      <td>NaN</td>\n",
       "      <td>NaN</td>\n",
       "      <td>NaN</td>\n",
       "      <td>NaN</td>\n",
       "      <td>NaN</td>\n",
       "      <td>...</td>\n",
       "      <td>Yes</td>\n",
       "      <td>No</td>\n",
       "      <td>No</td>\n",
       "      <td>Yes</td>\n",
       "      <td>0</td>\n",
       "      <td>Sometimes</td>\n",
       "      <td>Often</td>\n",
       "      <td>56</td>\n",
       "      <td>Sometimes</td>\n",
       "      <td>1</td>\n",
       "    </tr>\n",
       "    <tr>\n",
       "      <th>1430</th>\n",
       "      <td>0</td>\n",
       "      <td>100-500</td>\n",
       "      <td>1.0</td>\n",
       "      <td>NaN</td>\n",
       "      <td>Yes</td>\n",
       "      <td>Yes</td>\n",
       "      <td>Yes</td>\n",
       "      <td>Yes</td>\n",
       "      <td>I don't know</td>\n",
       "      <td>Somewhat difficult</td>\n",
       "      <td>...</td>\n",
       "      <td>Yes</td>\n",
       "      <td>Yes</td>\n",
       "      <td>Maybe</td>\n",
       "      <td>Yes</td>\n",
       "      <td>1</td>\n",
       "      <td>Rarely</td>\n",
       "      <td>Sometimes</td>\n",
       "      <td>52</td>\n",
       "      <td>Sometimes</td>\n",
       "      <td>1</td>\n",
       "    </tr>\n",
       "    <tr>\n",
       "      <th>1431</th>\n",
       "      <td>0</td>\n",
       "      <td>100-500</td>\n",
       "      <td>0.0</td>\n",
       "      <td>1.0</td>\n",
       "      <td>I don't know</td>\n",
       "      <td>I am not sure</td>\n",
       "      <td>No</td>\n",
       "      <td>Yes</td>\n",
       "      <td>I don't know</td>\n",
       "      <td>Somewhat difficult</td>\n",
       "      <td>...</td>\n",
       "      <td>Yes</td>\n",
       "      <td>Maybe</td>\n",
       "      <td>Yes</td>\n",
       "      <td>Yes</td>\n",
       "      <td>0</td>\n",
       "      <td>Sometimes</td>\n",
       "      <td>Often</td>\n",
       "      <td>30</td>\n",
       "      <td>Sometimes</td>\n",
       "      <td>0</td>\n",
       "    </tr>\n",
       "    <tr>\n",
       "      <th>1432</th>\n",
       "      <td>0</td>\n",
       "      <td>100-500</td>\n",
       "      <td>1.0</td>\n",
       "      <td>NaN</td>\n",
       "      <td>Yes</td>\n",
       "      <td>No</td>\n",
       "      <td>No</td>\n",
       "      <td>No</td>\n",
       "      <td>I don't know</td>\n",
       "      <td>Very difficult</td>\n",
       "      <td>...</td>\n",
       "      <td>I don't know</td>\n",
       "      <td>Yes</td>\n",
       "      <td>Yes</td>\n",
       "      <td>No</td>\n",
       "      <td>0</td>\n",
       "      <td>Not applicable to me</td>\n",
       "      <td>Often</td>\n",
       "      <td>25</td>\n",
       "      <td>Sometimes</td>\n",
       "      <td>0</td>\n",
       "    </tr>\n",
       "  </tbody>\n",
       "</table>\n",
       "<p>1433 rows × 45 columns</p>\n",
       "</div>"
      ],
      "text/plain": [
       "      self_employed number_of_employees  tech_company  tech_role  \\\n",
       "0                 0              26-100           1.0        NaN   \n",
       "1                 0                6-25           1.0        NaN   \n",
       "2                 0                6-25           1.0        NaN   \n",
       "3                 1                 NaN           NaN        NaN   \n",
       "4                 0                6-25           0.0        1.0   \n",
       "...             ...                 ...           ...        ...   \n",
       "1428              1                 NaN           NaN        NaN   \n",
       "1429              1                 NaN           NaN        NaN   \n",
       "1430              0             100-500           1.0        NaN   \n",
       "1431              0             100-500           0.0        1.0   \n",
       "1432              0             100-500           1.0        NaN   \n",
       "\n",
       "                     coverage_Offered familiar_with_coverage_options  \\\n",
       "0     Not eligible for coverage / N/A                            NaN   \n",
       "1                                  No                            Yes   \n",
       "2                                  No                            NaN   \n",
       "3                                 NaN                            NaN   \n",
       "4                                 Yes                            Yes   \n",
       "...                               ...                            ...   \n",
       "1428                              NaN                            NaN   \n",
       "1429                              NaN                            NaN   \n",
       "1430                              Yes                            Yes   \n",
       "1431                     I don't know                  I am not sure   \n",
       "1432                              Yes                             No   \n",
       "\n",
       "     employer_discussed Employer_resources_available protected_anonymity  \\\n",
       "0                    No                           No        I don't know   \n",
       "1                   Yes                          Yes                 Yes   \n",
       "2                    No                           No        I don't know   \n",
       "3                   NaN                          NaN                 NaN   \n",
       "4                    No                           No                  No   \n",
       "...                 ...                          ...                 ...   \n",
       "1428                NaN                          NaN                 NaN   \n",
       "1429                NaN                          NaN                 NaN   \n",
       "1430                Yes                          Yes        I don't know   \n",
       "1431                 No                          Yes        I don't know   \n",
       "1432                 No                           No        I don't know   \n",
       "\n",
       "     is_mental_health_leave_accepted  ... family_history past_disorder  \\\n",
       "0                          Very easy  ...             No           Yes   \n",
       "1                      Somewhat easy  ...            Yes           Yes   \n",
       "2         Neither easy nor difficult  ...             No         Maybe   \n",
       "3                                NaN  ...             No           Yes   \n",
       "4         Neither easy nor difficult  ...            Yes           Yes   \n",
       "...                              ...  ...            ...           ...   \n",
       "1428                             NaN  ...            Yes            No   \n",
       "1429                             NaN  ...            Yes            No   \n",
       "1430              Somewhat difficult  ...            Yes           Yes   \n",
       "1431              Somewhat difficult  ...            Yes         Maybe   \n",
       "1432                  Very difficult  ...   I don't know           Yes   \n",
       "\n",
       "     current_disorder professional_diagnosis  sought_treatment_professional  \\\n",
       "0                  No                    Yes                              0   \n",
       "1                 Yes                    Yes                              1   \n",
       "2                  No                     No                              1   \n",
       "3                 Yes                    Yes                              1   \n",
       "4                 Yes                    Yes                              1   \n",
       "...               ...                    ...                            ...   \n",
       "1428               No                     No                              1   \n",
       "1429               No                    Yes                              0   \n",
       "1430            Maybe                    Yes                              1   \n",
       "1431              Yes                    Yes                              0   \n",
       "1432              Yes                     No                              0   \n",
       "\n",
       "     does_effective_treatment_impact_work  \\\n",
       "0                    Not applicable to me   \n",
       "1                                  Rarely   \n",
       "2                    Not applicable to me   \n",
       "3                               Sometimes   \n",
       "4                               Sometimes   \n",
       "...                                   ...   \n",
       "1428                 Not applicable to me   \n",
       "1429                            Sometimes   \n",
       "1430                               Rarely   \n",
       "1431                            Sometimes   \n",
       "1432                 Not applicable to me   \n",
       "\n",
       "     does_ineffective_treatment_impact_work age remote_work Willingness  \n",
       "0                      Not applicable to me  39   Sometimes           1  \n",
       "1                                 Sometimes  29       Never           1  \n",
       "2                      Not applicable to me  38      Always           1  \n",
       "3                                 Sometimes  43   Sometimes           2  \n",
       "4                                 Sometimes  43   Sometimes           0  \n",
       "...                                     ...  ..         ...         ...  \n",
       "1428                   Not applicable to me  34   Sometimes           1  \n",
       "1429                                  Often  56   Sometimes           1  \n",
       "1430                              Sometimes  52   Sometimes           1  \n",
       "1431                                  Often  30   Sometimes           0  \n",
       "1432                                  Often  25   Sometimes           0  \n",
       "\n",
       "[1433 rows x 45 columns]"
      ]
     },
     "execution_count": 550,
     "metadata": {},
     "output_type": "execute_result"
    }
   ],
   "source": [
    "df"
   ]
  },
  {
   "cell_type": "markdown",
   "metadata": {},
   "source": [
    " # Baseline Modeling"
   ]
  },
  {
   "cell_type": "code",
   "execution_count": 551,
   "metadata": {},
   "outputs": [],
   "source": [
    "# define target for Classification\n",
    "target = 'Willingness'\n",
    "features = df.columns.drop(target)\n",
    "\n",
    "X = df[features]\n",
    "y = df[target]"
   ]
  },
  {
   "cell_type": "code",
   "execution_count": 552,
   "metadata": {},
   "outputs": [
    {
     "data": {
      "text/plain": [
       "((1146, 44), (1146,), (287, 44), (287,))"
      ]
     },
     "execution_count": 552,
     "metadata": {},
     "output_type": "execute_result"
    }
   ],
   "source": [
    "# Split train and test data sets\n",
    "X_train, X_test = train_test_split(X, train_size=0.8, test_size=0.2, random_state=42)\n",
    "y_train, y_test = train_test_split(y, train_size=0.8, test_size=0.2, random_state=42)\n",
    "\n",
    "X_train.shape, y_train.shape, X_test.shape, y_test.shape"
   ]
  },
  {
   "cell_type": "code",
   "execution_count": 553,
   "metadata": {},
   "outputs": [
    {
     "name": "stdout",
     "output_type": "stream",
     "text": [
      "Most Common Class:  1\n",
      "Baseline Accuracy:  0.5680628272251309\n"
     ]
    }
   ],
   "source": [
    "# Establish Baseline Score from most frequent class\n",
    "trn_score_mode = y_train.mode()[0]\n",
    "index_series = X_train.index\n",
    "\n",
    "y_pred = pd.Series(trn_score_mode, index = index_series)\n",
    "\n",
    "baseline = accuracy_score(y_train, y_pred)\n",
    "\n",
    "print('Most Common Class: ', trn_score_mode)\n",
    "print('Baseline Accuracy: ', baseline)"
   ]
  },
  {
   "cell_type": "markdown",
   "metadata": {},
   "source": [
    "## Baseline Logistic Regression model"
   ]
  },
  {
   "cell_type": "code",
   "execution_count": 554,
   "metadata": {},
   "outputs": [],
   "source": [
    "# Encode Training Data\n",
    "target_encoder = ce.target_encoder.TargetEncoder()\n",
    "\n",
    "encoded = target_encoder.fit_transform(X_train, y_train)\n",
    "transformed_cols = target_encoder.get_feature_names()\n",
    "\n",
    "X_train_enc = pd.DataFrame(encoded, columns=transformed_cols)\n"
   ]
  },
  {
   "cell_type": "code",
   "execution_count": 555,
   "metadata": {},
   "outputs": [],
   "source": [
    "# Encode Test data\n",
    "\n",
    "encoded = target_encoder.transform(X_test, y_test)\n",
    "\n",
    "X_test_enc = pd.DataFrame(encoded, columns=transformed_cols)"
   ]
  },
  {
   "cell_type": "code",
   "execution_count": 556,
   "metadata": {},
   "outputs": [
    {
     "data": {
      "text/plain": [
       "Pipeline(steps=[('simpleimputer', SimpleImputer(strategy='most_frequent')),\n",
       "                ('standardscaler', StandardScaler()),\n",
       "                ('logisticregression', LogisticRegression())])"
      ]
     },
     "execution_count": 556,
     "metadata": {},
     "output_type": "execute_result"
    }
   ],
   "source": [
    "model = make_pipeline(\n",
    "                      SimpleImputer(strategy = 'most_frequent'),\n",
    "                      StandardScaler(),\n",
    "                      LogisticRegression())\n",
    "\n",
    "model.fit(X_train_enc, y_train)"
   ]
  },
  {
   "cell_type": "code",
   "execution_count": 557,
   "metadata": {},
   "outputs": [
    {
     "data": {
      "text/plain": [
       "0.7303664921465969"
      ]
     },
     "execution_count": 557,
     "metadata": {},
     "output_type": "execute_result"
    }
   ],
   "source": [
    "y_pred = model.predict(X_train_enc)\n",
    "\n",
    "accuracy_score(y_pred, y_train)"
   ]
  },
  {
   "cell_type": "code",
   "execution_count": 558,
   "metadata": {},
   "outputs": [],
   "source": [
    "acc_score = make_scorer(accuracy_score)\n",
    "\n",
    "mean_cv_scr_log = cross_val_score(model, X_train_enc, y_train, cv=5, scoring=acc_score).mean()"
   ]
  },
  {
   "cell_type": "code",
   "execution_count": 559,
   "metadata": {},
   "outputs": [
    {
     "name": "stdout",
     "output_type": "stream",
     "text": [
      "Logistic Regression accuracy score:  0.6945927472944751\n"
     ]
    }
   ],
   "source": [
    "print('Logistic Regression accuracy score: ', mean_cv_scr_log);"
   ]
  },
  {
   "cell_type": "markdown",
   "metadata": {},
   "source": [
    "## Baseline XGBoost model"
   ]
  },
  {
   "cell_type": "code",
   "execution_count": 560,
   "metadata": {},
   "outputs": [],
   "source": [
    "xb_classif = xgboost.XGBClassifier\n",
    "\n",
    "\n",
    "model_gb = make_pipeline(\n",
    "                      SimpleImputer(strategy = 'most_frequent'),\n",
    "                      StandardScaler(),\n",
    "                      xb_classif(booster='gbtree',\n",
    "                                 base_score = baseline,\n",
    "                                 random_state=42,\n",
    "                                 n_jobs=-1,\n",
    "                                 verbosity=0))"
   ]
  },
  {
   "cell_type": "code",
   "execution_count": 561,
   "metadata": {},
   "outputs": [
    {
     "data": {
      "text/plain": [
       "Pipeline(steps=[('simpleimputer', SimpleImputer(strategy='most_frequent')),\n",
       "                ('standardscaler', StandardScaler()),\n",
       "                ('xgbclassifier',\n",
       "                 XGBClassifier(base_score=0.5680628272251309, booster='gbtree',\n",
       "                               colsample_bylevel=1, colsample_bynode=1,\n",
       "                               colsample_bytree=1, gamma=0, gpu_id=-1,\n",
       "                               importance_type='gain',\n",
       "                               interaction_constraints='',\n",
       "                               learning_rate=0.300000012, max_delta_step=0,\n",
       "                               max_depth=6, min_child_weight=1, missing=nan,\n",
       "                               monotone_constraints='()', n_estimators=100,\n",
       "                               n_jobs=-1, num_parallel_tree=1,\n",
       "                               objective='multi:softprob', random_state=42,\n",
       "                               reg_alpha=0, reg_lambda=1, scale_pos_weight=None,\n",
       "                               subsample=1, tree_method='exact',\n",
       "                               validate_parameters=1, verbosity=0))])"
      ]
     },
     "execution_count": 561,
     "metadata": {},
     "output_type": "execute_result"
    }
   ],
   "source": [
    "model_gb.fit(X_train_enc, y_train)"
   ]
  },
  {
   "cell_type": "code",
   "execution_count": 562,
   "metadata": {},
   "outputs": [],
   "source": [
    "estimator = model_gb.named_steps['xgbclassifier']"
   ]
  },
  {
   "cell_type": "code",
   "execution_count": 563,
   "metadata": {},
   "outputs": [
    {
     "data": {
      "text/plain": [
       "1.0"
      ]
     },
     "execution_count": 563,
     "metadata": {},
     "output_type": "execute_result"
    }
   ],
   "source": [
    "y_pred = model_gb.predict(X_train_enc)\n",
    "\n",
    "accuracy_score(y_pred, y_train)"
   ]
  },
  {
   "cell_type": "code",
   "execution_count": 564,
   "metadata": {},
   "outputs": [],
   "source": [
    "mean_cv_scr_xgbc = cross_val_score(model_gb, X_train_enc, y_train, cv=5, scoring=acc_score).mean()"
   ]
  },
  {
   "cell_type": "code",
   "execution_count": 565,
   "metadata": {},
   "outputs": [
    {
     "name": "stdout",
     "output_type": "stream",
     "text": [
      "XGboost classification accuracy score:  0.6588152648566546\n"
     ]
    }
   ],
   "source": [
    "print('XGboost classification accuracy score: ', mean_cv_scr_xgbc);"
   ]
  },
  {
   "cell_type": "markdown",
   "metadata": {},
   "source": [
    "# Model Tuning"
   ]
  },
  {
   "cell_type": "markdown",
   "metadata": {},
   "source": [
    "## Logistic Regression"
   ]
  },
  {
   "cell_type": "code",
   "execution_count": 566,
   "metadata": {},
   "outputs": [],
   "source": [
    "param_log = {\n",
    "              'logisticregression__C': uniform(0.01, 1.00),\n",
    "              'logisticregression__class_weight': ['balanced', None],\n",
    "              'logisticregression__solver': ['newton-cg', 'sag', 'saga', 'lbfgs'],\n",
    "              'logisticregression__max_iter': randint(10, 200)\n",
    "}"
   ]
  },
  {
   "cell_type": "code",
   "execution_count": 567,
   "metadata": {},
   "outputs": [
    {
     "name": "stdout",
     "output_type": "stream",
     "text": [
      "Fitting 5 folds for each of 200 candidates, totalling 1000 fits\n"
     ]
    },
    {
     "data": {
      "text/plain": [
       "RandomizedSearchCV(cv=5,\n",
       "                   estimator=Pipeline(steps=[('simpleimputer',\n",
       "                                              SimpleImputer(strategy='most_frequent')),\n",
       "                                             ('standardscaler',\n",
       "                                              StandardScaler()),\n",
       "                                             ('logisticregression',\n",
       "                                              LogisticRegression())]),\n",
       "                   n_iter=200, n_jobs=-1,\n",
       "                   param_distributions={'logisticregression__C': <scipy.stats._distn_infrastructure.rv_frozen object at 0x000002785987CEB0>,\n",
       "                                        'logisticregression__class_weight': ['balanced',\n",
       "                                                                             None],\n",
       "                                        'logisticregression__max_iter': <scipy.stats._distn_infrastructure.rv_frozen object at 0x000002785A885AC0>,\n",
       "                                        'logisticregression__solver': ['newton-cg',\n",
       "                                                                       'sag',\n",
       "                                                                       'saga',\n",
       "                                                                       'lbfgs']},\n",
       "                   random_state=42, return_train_score=True, verbose=1)"
      ]
     },
     "execution_count": 567,
     "metadata": {},
     "output_type": "execute_result"
    }
   ],
   "source": [
    "search_log = RandomizedSearchCV(\n",
    "            model,\n",
    "            param_distributions = param_log,\n",
    "            n_iter=200,\n",
    "            cv=5,\n",
    "            n_jobs=-1,\n",
    "            return_train_score = True,\n",
    "            random_state=42,\n",
    "            verbose=1\n",
    ")\n",
    "\n",
    "search_log.fit(X_train_enc, y_train)"
   ]
  },
  {
   "cell_type": "code",
   "execution_count": 568,
   "metadata": {},
   "outputs": [
    {
     "name": "stdout",
     "output_type": "stream",
     "text": [
      "0.7268760907504364\n"
     ]
    }
   ],
   "source": [
    "log_bst = search_log.best_estimator_\n",
    "y_pred = log_bst.predict(X_train_enc)\n",
    "\n",
    "tuned_log_trnscore = accuracy_score(y_pred, y_train)\n",
    "\n",
    "print(tuned_log_trnscore)"
   ]
  },
  {
   "cell_type": "code",
   "execution_count": 569,
   "metadata": {},
   "outputs": [
    {
     "name": "stdout",
     "output_type": "stream",
     "text": [
      "Logistic regression accuracy score after hyper parameter tuning:  0.7015682551737232\n"
     ]
    }
   ],
   "source": [
    "log_bst_scr = search_log.best_score_\n",
    "\n",
    "print('Logistic regression accuracy score after hyper parameter tuning: ', log_bst_scr)"
   ]
  },
  {
   "cell_type": "markdown",
   "metadata": {},
   "source": [
    "## XGBoost Classifier"
   ]
  },
  {
   "cell_type": "code",
   "execution_count": 570,
   "metadata": {},
   "outputs": [],
   "source": [
    "param_xgb = {\n",
    "    'xgbclassifier__max_depth': randint(10, 8000),\n",
    "    'xgbclassifier__n_estimators': randint(1, 5),\n",
    "    'xgbclassifier__learning_rate': uniform(0.01, 0.99),\n",
    "    'xgbclassifier__num_parallel_tree': randint(1, 300),\n",
    "    'xgbclassifier__reg_lambda': randint(1, 10),\n",
    "    'xgbclassifier__reg_alpha': randint(0, 10),\n",
    "}"
   ]
  },
  {
   "cell_type": "code",
   "execution_count": 571,
   "metadata": {},
   "outputs": [
    {
     "name": "stdout",
     "output_type": "stream",
     "text": [
      "Fitting 5 folds for each of 100 candidates, totalling 500 fits\n"
     ]
    },
    {
     "data": {
      "text/plain": [
       "RandomizedSearchCV(cv=5,\n",
       "                   estimator=Pipeline(steps=[('simpleimputer',\n",
       "                                              SimpleImputer(strategy='most_frequent')),\n",
       "                                             ('standardscaler',\n",
       "                                              StandardScaler()),\n",
       "                                             ('xgbclassifier',\n",
       "                                              XGBClassifier(base_score=0.5680628272251309,\n",
       "                                                            booster='gbtree',\n",
       "                                                            colsample_bylevel=1,\n",
       "                                                            colsample_bynode=1,\n",
       "                                                            colsample_bytree=1,\n",
       "                                                            gamma=0, gpu_id=-1,\n",
       "                                                            importance_type='gain',\n",
       "                                                            interaction_constraints='',\n",
       "                                                            le...\n",
       "                                        'xgbclassifier__num_parallel_tree': <scipy.stats._distn_infrastructure.rv_frozen object at 0x000002784EDDF730>,\n",
       "                                        'xgbclassifier__reg_alpha': <scipy.stats._distn_infrastructure.rv_frozen object at 0x0000027859758D00>,\n",
       "                                        'xgbclassifier__reg_lambda': <scipy.stats._distn_infrastructure.rv_frozen object at 0x000002784F12F1C0>},\n",
       "                   random_state=42, return_train_score=True, verbose=1)"
      ]
     },
     "execution_count": 571,
     "metadata": {},
     "output_type": "execute_result"
    }
   ],
   "source": [
    "search_xgbclassif = RandomizedSearchCV(\n",
    "            model_gb,\n",
    "            param_distributions = param_xgb,\n",
    "            n_iter=100,\n",
    "            cv=5,\n",
    "            n_jobs=-1,\n",
    "            return_train_score = True,\n",
    "            random_state=42,\n",
    "            verbose=1\n",
    ")\n",
    "\n",
    "search_xgbclassif.fit(X_train_enc, y_train)"
   ]
  },
  {
   "cell_type": "code",
   "execution_count": 572,
   "metadata": {},
   "outputs": [
    {
     "name": "stdout",
     "output_type": "stream",
     "text": [
      "0.8551483420593369\n"
     ]
    }
   ],
   "source": [
    "xgb_bst = search_xgbclassif.best_estimator_\n",
    "\n",
    "y_pred = xgb_bst.predict(X_train_enc)\n",
    "\n",
    "tuned_xgb_trnscore = accuracy_score(y_pred, y_train)\n",
    "\n",
    "print(tuned_xgb_trnscore)"
   ]
  },
  {
   "cell_type": "code",
   "execution_count": 573,
   "metadata": {},
   "outputs": [
    {
     "name": "stdout",
     "output_type": "stream",
     "text": [
      "Tuned XGB Accuracy Score:  0.6858667172963735\n"
     ]
    }
   ],
   "source": [
    "xgb_bst_scr = search_xgbclassif.best_score_\n",
    "\n",
    "print('Tuned XGB Accuracy Score: ', xgb_bst_scr)"
   ]
  },
  {
   "cell_type": "markdown",
   "metadata": {},
   "source": [
    "# Model Interpretation and Feature Optimization"
   ]
  },
  {
   "cell_type": "markdown",
   "metadata": {},
   "source": [
    "## Logistic Regression"
   ]
  },
  {
   "cell_type": "code",
   "execution_count": 574,
   "metadata": {},
   "outputs": [
    {
     "data": {
      "text/plain": [
       "PermutationImportance(estimator=Pipeline(steps=[('simpleimputer',\n",
       "                                                 SimpleImputer(strategy='most_frequent')),\n",
       "                                                ('standardscaler',\n",
       "                                                 StandardScaler()),\n",
       "                                                ('logisticregression',\n",
       "                                                 LogisticRegression(C=0.6078999788110852,\n",
       "                                                                    max_iter=24))]),\n",
       "                      n_iter=100, random_state=42,\n",
       "                      scoring=make_scorer(accuracy_score))"
      ]
     },
     "execution_count": 574,
     "metadata": {},
     "output_type": "execute_result"
    }
   ],
   "source": [
    "permuter = PermutationImportance(\n",
    "                                 log_bst,\n",
    "                                 scoring=acc_score,\n",
    "                                 n_iter=100,\n",
    "                                 random_state=42)\n",
    "\n",
    "permuter.fit(X_train_enc, y_train)"
   ]
  },
  {
   "cell_type": "code",
   "execution_count": 575,
   "metadata": {},
   "outputs": [],
   "source": [
    "permuted_log = eli5.explain_weights_df(\n",
    "        permuter,\n",
    "        top=None,\n",
    "        feature_names=transformed_cols,\n",
    ")"
   ]
  },
  {
   "cell_type": "code",
   "execution_count": 576,
   "metadata": {},
   "outputs": [],
   "source": [
    "low_log_importances = permuted_log[permuted_log['weight'].abs() < 0.001]\n",
    "\n",
    "low_log_import_features = low_log_importances['feature']\n",
    "\n",
    "X_train_log_p = X_train_enc.drop(columns = low_log_import_features)\n",
    "\n",
    "log_perm_cols = X_train_log_p.columns.to_list()"
   ]
  },
  {
   "cell_type": "code",
   "execution_count": 577,
   "metadata": {},
   "outputs": [
    {
     "data": {
      "text/plain": [
       "Pipeline(steps=[('simpleimputer', SimpleImputer(strategy='most_frequent')),\n",
       "                ('standardscaler', StandardScaler()),\n",
       "                ('logisticregression',\n",
       "                 LogisticRegression(C=0.6078999788110852, max_iter=24))])"
      ]
     },
     "execution_count": 577,
     "metadata": {},
     "output_type": "execute_result"
    }
   ],
   "source": [
    "log_bst.fit(X_train_log_p, y_train)"
   ]
  },
  {
   "cell_type": "code",
   "execution_count": 578,
   "metadata": {},
   "outputs": [
    {
     "data": {
      "text/plain": [
       "0.7015682551737232"
      ]
     },
     "execution_count": 578,
     "metadata": {},
     "output_type": "execute_result"
    }
   ],
   "source": [
    "mean_cv_scr_log_bst = cross_val_score(log_bst, X_train_log_p, y_train, cv=5, scoring=acc_score).mean();\n",
    "\n",
    "mean_cv_scr_log_bst"
   ]
  },
  {
   "cell_type": "code",
   "execution_count": 580,
   "metadata": {},
   "outputs": [
    {
     "data": {
      "text/plain": [
       "PermutationImportance(estimator=Pipeline(steps=[('simpleimputer',\n",
       "                                                 SimpleImputer(strategy='most_frequent')),\n",
       "                                                ('standardscaler',\n",
       "                                                 StandardScaler()),\n",
       "                                                ('logisticregression',\n",
       "                                                 LogisticRegression(C=0.6078999788110852,\n",
       "                                                                    max_iter=24))]),\n",
       "                      n_iter=100, random_state=42,\n",
       "                      scoring=make_scorer(accuracy_score))"
      ]
     },
     "execution_count": 580,
     "metadata": {},
     "output_type": "execute_result"
    }
   ],
   "source": [
    "permuter = PermutationImportance(\n",
    "                                 log_bst,\n",
    "                                 scoring=acc_score,\n",
    "                                 n_iter=100,\n",
    "                                 random_state=42)\n",
    "\n",
    "permuter.fit(X_train_log_p, y_train)"
   ]
  },
  {
   "cell_type": "code",
   "execution_count": 594,
   "metadata": {},
   "outputs": [
    {
     "data": {
      "image/png": "[encoded data removed]",
      "text/plain": [
       "<Figure size 720x720 with 1 Axes>"
      ]
     },
     "metadata": {
      "needs_background": "light"
     },
     "output_type": "display_data"
    }
   ],
   "source": [
    "log_p_importances = pd.Series(permuter.feature_importances_, log_perm_cols).sort_values()\n",
    "\n",
    "n=20\n",
    "plt.figure(figsize=(10, n/2))\n",
    "plt.title('Logistic Regression Importances')\n",
    "log_p_importances[-n:].plot.barh(color='blue');\n"
   ]
  },
  {
   "cell_type": "markdown",
   "metadata": {},
   "source": [
    "## XGBoost"
   ]
  },
  {
   "cell_type": "code",
   "execution_count": 582,
   "metadata": {},
   "outputs": [
    {
     "data": {
      "text/plain": [
       "PermutationImportance(estimator=Pipeline(steps=[('simpleimputer',\n",
       "                                                 SimpleImputer(strategy='most_frequent')),\n",
       "                                                ('standardscaler',\n",
       "                                                 StandardScaler()),\n",
       "                                                ('xgbclassifier',\n",
       "                                                 XGBClassifier(base_score=0.5680628272251309,\n",
       "                                                               booster='gbtree',\n",
       "                                                               colsample_bylevel=1,\n",
       "                                                               colsample_bynode=1,\n",
       "                                                               colsample_bytree=1,\n",
       "                                                               gamma=0,\n",
       "                                                               gpu_id=-1,\n",
       "                                                               importance_type='gain',\n",
       "                                                               interaction_constraints='',\n",
       "                                                               lear...\n",
       "                                                               max_delta_step=0,\n",
       "                                                               max_depth=1804,\n",
       "                                                               min_child_weight=1,\n",
       "                                                               missing=nan,\n",
       "                                                               monotone_constraints='()',\n",
       "                                                               n_estimators=4,\n",
       "                                                               n_jobs=-1,\n",
       "                                                               num_parallel_tree=252,\n",
       "                                                               objective='multi:softprob',\n",
       "                                                               random_state=42,\n",
       "                                                               reg_alpha=3,\n",
       "                                                               reg_lambda=3,\n",
       "                                                               scale_pos_weight=None,\n",
       "                                                               subsample=1,\n",
       "                                                               tree_method='exact',\n",
       "                                                               validate_parameters=1,\n",
       "                                                               verbosity=0))]),\n",
       "                      n_iter=100, random_state=42,\n",
       "                      scoring=make_scorer(accuracy_score))"
      ]
     },
     "execution_count": 582,
     "metadata": {},
     "output_type": "execute_result"
    }
   ],
   "source": [
    "permuter_xgb = PermutationImportance(\n",
    "                                 xgb_bst,\n",
    "                                 scoring=acc_score,\n",
    "                                 n_iter=100,\n",
    "                                 random_state=42)\n",
    "\n",
    "permuter_xgb.fit(X_train_enc, y_train)"
   ]
  },
  {
   "cell_type": "code",
   "execution_count": 583,
   "metadata": {},
   "outputs": [],
   "source": [
    "permuted_xgb = eli5.explain_weights_df(\n",
    "        permuter_xgb,\n",
    "        top=None,\n",
    "        feature_names=transformed_cols,\n",
    ")"
   ]
  },
  {
   "cell_type": "code",
   "execution_count": 584,
   "metadata": {},
   "outputs": [],
   "source": [
    "low_importances = permuted_xgb[permuted_xgb['weight'].abs() < 0.001]\n",
    "\n",
    "low_import_features = low_importances['feature']\n",
    "\n",
    "X_train_perm = X_train_enc.drop(columns = low_import_features)\n",
    "\n",
    "perm_cols = X_train_perm.columns.to_list()"
   ]
  },
  {
   "cell_type": "code",
   "execution_count": 585,
   "metadata": {},
   "outputs": [
    {
     "data": {
      "text/plain": [
       "Pipeline(steps=[('simpleimputer', SimpleImputer(strategy='most_frequent')),\n",
       "                ('standardscaler', StandardScaler()),\n",
       "                ('xgbclassifier',\n",
       "                 XGBClassifier(base_score=0.5680628272251309, booster='gbtree',\n",
       "                               colsample_bylevel=1, colsample_bynode=1,\n",
       "                               colsample_bytree=1, gamma=0, gpu_id=-1,\n",
       "                               importance_type='gain',\n",
       "                               interaction_constraints='',\n",
       "                               learning_rate=0.698854678722973,\n",
       "                               max_delta_step=0, max_depth=1804,\n",
       "                               min_child_weight=1, missing=nan,\n",
       "                               monotone_constraints='()', n_estimators=4,\n",
       "                               n_jobs=-1, num_parallel_tree=252,\n",
       "                               objective='multi:softprob', random_state=42,\n",
       "                               reg_alpha=3, reg_lambda=3, scale_pos_weight=None,\n",
       "                               subsample=1, tree_method='exact',\n",
       "                               validate_parameters=1, verbosity=0))])"
      ]
     },
     "execution_count": 585,
     "metadata": {},
     "output_type": "execute_result"
    }
   ],
   "source": [
    "xgb_bst.fit(X_train_perm, y_train)"
   ]
  },
  {
   "cell_type": "code",
   "execution_count": 586,
   "metadata": {},
   "outputs": [
    {
     "data": {
      "text/plain": [
       "0.6858667172963735"
      ]
     },
     "execution_count": 586,
     "metadata": {},
     "output_type": "execute_result"
    }
   ],
   "source": [
    "mean_cv_scr_xgb_bst = cross_val_score(xgb_bst, X_train_enc, y_train, cv=5, scoring=acc_score).mean();\n",
    "\n",
    "mean_cv_scr_xgb_bst"
   ]
  },
  {
   "cell_type": "code",
   "execution_count": 587,
   "metadata": {},
   "outputs": [
    {
     "data": {
      "text/plain": [
       "PermutationImportance(estimator=Pipeline(steps=[('simpleimputer',\n",
       "                                                 SimpleImputer(strategy='most_frequent')),\n",
       "                                                ('standardscaler',\n",
       "                                                 StandardScaler()),\n",
       "                                                ('xgbclassifier',\n",
       "                                                 XGBClassifier(base_score=0.5680628272251309,\n",
       "                                                               booster='gbtree',\n",
       "                                                               colsample_bylevel=1,\n",
       "                                                               colsample_bynode=1,\n",
       "                                                               colsample_bytree=1,\n",
       "                                                               gamma=0,\n",
       "                                                               gpu_id=-1,\n",
       "                                                               importance_type='gain',\n",
       "                                                               interaction_constraints='',\n",
       "                                                               lear...\n",
       "                                                               max_delta_step=0,\n",
       "                                                               max_depth=1804,\n",
       "                                                               min_child_weight=1,\n",
       "                                                               missing=nan,\n",
       "                                                               monotone_constraints='()',\n",
       "                                                               n_estimators=4,\n",
       "                                                               n_jobs=-1,\n",
       "                                                               num_parallel_tree=252,\n",
       "                                                               objective='multi:softprob',\n",
       "                                                               random_state=42,\n",
       "                                                               reg_alpha=3,\n",
       "                                                               reg_lambda=3,\n",
       "                                                               scale_pos_weight=None,\n",
       "                                                               subsample=1,\n",
       "                                                               tree_method='exact',\n",
       "                                                               validate_parameters=1,\n",
       "                                                               verbosity=0))]),\n",
       "                      n_iter=100, random_state=42,\n",
       "                      scoring=make_scorer(accuracy_score))"
      ]
     },
     "execution_count": 587,
     "metadata": {},
     "output_type": "execute_result"
    }
   ],
   "source": [
    "permuter_xgb = PermutationImportance(\n",
    "                                 xgb_bst,\n",
    "                                 scoring=acc_score,\n",
    "                                 n_iter=100,\n",
    "                                 random_state=42)\n",
    "\n",
    "permuter_xgb.fit(X_train_perm, y_train)"
   ]
  },
  {
   "cell_type": "code",
   "execution_count": 588,
   "metadata": {},
   "outputs": [],
   "source": [
    "permuted_xgb = eli5.explain_weights_df(\n",
    "        permuter_xgb,\n",
    "        top=None,\n",
    "        feature_names=perm_cols,\n",
    ")"
   ]
  },
  {
   "cell_type": "code",
   "execution_count": 595,
   "metadata": {},
   "outputs": [
    {
     "data": {
      "image/png": "[encoded data removed]",
      "text/plain": [
       "<Figure size 720x720 with 1 Axes>"
      ]
     },
     "metadata": {
      "needs_background": "light"
     },
     "output_type": "display_data"
    }
   ],
   "source": [
    "xgb_p_importances = pd.Series(permuter_xgb.feature_importances_, perm_cols).sort_values()\n",
    "\n",
    "n=20\n",
    "plt.figure(figsize=(10, n/2))\n",
    "plt.title('XGBoost Importances')\n",
    "xgb_p_importances[-n:].plot.barh(color='blue');"
   ]
  },
  {
   "cell_type": "markdown",
   "metadata": {},
   "source": [
    "# Test Evaluation"
   ]
  },
  {
   "cell_type": "code",
   "execution_count": 590,
   "metadata": {},
   "outputs": [
    {
     "name": "stdout",
     "output_type": "stream",
     "text": [
      "0.6794425087108014\n"
     ]
    }
   ],
   "source": [
    "X_test_perm = X_test_enc.drop(columns = low_log_import_features)\n",
    "\n",
    "y_pred = log_bst.predict(X_test_perm)\n",
    "\n",
    "test_score = accuracy_score(y_pred, y_test)\n",
    "\n",
    "print(test_score);"
   ]
  }
 ],
 "metadata": {
  "kernelspec": {
   "display_name": "Python 3",
   "language": "python",
   "name": "python3"
  },
  "language_info": {
   "codemirror_mode": {
    "name": "ipython",
    "version": 3
   },
   "file_extension": ".py",
   "mimetype": "text/x-python",
   "name": "python",
   "nbconvert_exporter": "python",
   "pygments_lexer": "ipython3",
   "version": "3.8.8"
  }
 },
 "nbformat": 4,
 "nbformat_minor": 4
}
